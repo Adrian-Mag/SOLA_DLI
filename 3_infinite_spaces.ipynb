{
 "cells": [
  {
   "cell_type": "markdown",
   "metadata": {},
   "source": [
    "# Infinite dimensional Spaces"
   ]
  },
  {
   "cell_type": "markdown",
   "metadata": {},
   "source": [
    "Infinite dimensional spaces are needed when working with functions, because functions can be thought of as vectors with infinitely many entries. The only kind of infinite dimensional space that can be used now is the peicewise continuous bounded space $PC_b$\n",
    "\n",
    "Before creating this space we need to define a domain on which the functions inhabiting this space are defined. For this example I will use $[0,1]$. "
   ]
  },
  {
   "cell_type": "code",
   "execution_count": 1,
   "metadata": {},
   "outputs": [],
   "source": [
    "import sys\n",
    "sys.path.append('/home/adrian/PhD/BGSOLA/SOLA_DLI/core')\n",
    "from core.main_classes.domains import *\n",
    "from core.main_classes.spaces import *\n",
    "from core.main_classes.functions import *\n",
    "from core.aux.function_creator import *\n",
    "my_domain = HyperParalelipiped(bounds=[[0,1]], fineness=1000)"
   ]
  },
  {
   "cell_type": "markdown",
   "metadata": {},
   "source": [
    "Now that we have the domain, we will create the space $PC_b[[0,1]]$:"
   ]
  },
  {
   "cell_type": "code",
   "execution_count": 2,
   "metadata": {},
   "outputs": [],
   "source": [
    "PCB = PCb(domain=my_domain)"
   ]
  },
  {
   "cell_type": "markdown",
   "metadata": {},
   "source": [
    "We can draw some random members from this space:"
   ]
  },
  {
   "cell_type": "code",
   "execution_count": 3,
   "metadata": {},
   "outputs": [
    {
     "data": {
      "image/png": "[encoded data removed]",
      "text/plain": [
       "<Figure size 432x288 with 1 Axes>"
      ]
     },
     "metadata": {
      "needs_background": "light"
     },
     "output_type": "display_data"
    }
   ],
   "source": [
    "%matplotlib inline\n",
    "import matplotlib.pyplot as plt \n",
    "function = PCB.random_member()\n",
    "\n",
    "plt.plot(my_domain.mesh, function.evaluate(my_domain.mesh)[1])\n",
    "plt.show()"
   ]
  },
  {
   "cell_type": "markdown",
   "metadata": {},
   "source": [
    "And we can even create our own functions via mouse drawings. To see how to do this see the python file \"draw_functions.py\". The interactive window needed for drawing doesn't work well with jupyter notebooks."
   ]
  },
  {
   "cell_type": "markdown",
   "metadata": {},
   "source": [
    "We can also add these functions as members to our space."
   ]
  },
  {
   "cell_type": "code",
   "execution_count": 4,
   "metadata": {},
   "outputs": [
    {
     "name": "stdout",
     "output_type": "stream",
     "text": [
      "{'gaussian': <core.main_classes.functions.Gaussian_1D object at 0x7f8a24df6ad0>, 'boxcar': <core.main_classes.functions.Boxcar_1D object at 0x7f8a24e06d50>, 'bump': <core.main_classes.functions.Bump_1D object at 0x7f8a24e40c90>}\n"
     ]
    }
   ],
   "source": [
    "gaussian = Gaussian_1D(my_domain, center=0.5, width=0.2)\n",
    "boxcar = Boxcar_1D(my_domain, center=0.2, width=0.2)\n",
    "bump = Bump_1D(my_domain, center=0.7, width=0.4)\n",
    "\n",
    "PCB.add_member(member_name='gaussian', member=gaussian)\n",
    "PCB.add_member(member_name='boxcar', member=boxcar)\n",
    "PCB.add_member(member_name='bump', member=bump)\n",
    "\n",
    "print(PCB.members)"
   ]
  },
  {
   "cell_type": "markdown",
   "metadata": {},
   "source": [
    "We can also take the inner product between two functions. By definitions this is:\n",
    "$$\n",
    "\\begin{equation}\n",
    "    \\left< f, g \\right>_{PC_b[[0,1]]} = \\int_0^1 f(r) g(r) dr \n",
    "\\end{equation}\n",
    "$$"
   ]
  },
  {
   "cell_type": "code",
   "execution_count": 5,
   "metadata": {},
   "outputs": [
    {
     "name": "stdout",
     "output_type": "stream",
     "text": [
      "9.75314257773659e-09\n"
     ]
    }
   ],
   "source": [
    "print(PCB.inner_product(gaussian, boxcar))"
   ]
  },
  {
   "cell_type": "markdown",
   "metadata": {},
   "source": [
    "And the induced norm:"
   ]
  },
  {
   "cell_type": "code",
   "execution_count": 6,
   "metadata": {},
   "outputs": [
    {
     "name": "stdout",
     "output_type": "stream",
     "text": [
      "2.2371868507134143\n"
     ]
    }
   ],
   "source": [
    "print(PCB.norm(boxcar))"
   ]
  },
  {
   "cell_type": "markdown",
   "metadata": {},
   "source": [
    "Currently there is no method for checking if something is a member or not of this space. I will try to implement such a method at some point"
   ]
  }
 ],
 "metadata": {
  "kernelspec": {
   "display_name": "bgsola",
   "language": "python",
   "name": "python3"
  },
  "language_info": {
   "codemirror_mode": {
    "name": "ipython",
    "version": 3
   },
   "file_extension": ".py",
   "mimetype": "text/x-python",
   "name": "python",
   "nbconvert_exporter": "python",
   "pygments_lexer": "ipython3",
   "version": "3.11.5"
  }
 },
 "nbformat": 4,
 "nbformat_minor": 2
}
