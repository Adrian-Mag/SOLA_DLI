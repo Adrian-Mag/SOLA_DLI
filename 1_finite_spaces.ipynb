{
 "cells": [
  {
   "cell_type": "markdown",
   "metadata": {},
   "source": [
    "# Spaces"
   ]
  },
  {
   "cell_type": "markdown",
   "metadata": {},
   "source": [
    "In linear inferences we must be mindfull of the spaces in which we are working, especially if we work in a parameter free model case. The three spaces used are\n",
    "1. $\\mathcal{M}$ the model space\n",
    "2. $\\mathcal{D}$ the data space\n",
    "3. $\\mathcal{P}$ the property space\n",
    "\n",
    "Usually $\\mathcal{P}$ and $\\mathcal{D}$ will be just $\\mathbb{R}^N$, while $\\mathcal{M}$ will be either $\\mathbb{R}^N$, $L_2[\\Omega]$ the space of square integrable functions defined over $\\Omega$, or $PC_b[\\Omega]$ the space of piece-wise continuous and bounded functinos defined over $\\Omega$. In this packacge the abstract class \"Space\" defines such spaces. We will only look at $\\mathbb{R}^N$ in this notebook."
   ]
  },
  {
   "cell_type": "markdown",
   "metadata": {},
   "source": [
    "To work with these mathematical spaces we must import the \"spaces\" module."
   ]
  },
  {
   "cell_type": "code",
   "execution_count": 23,
   "metadata": {},
   "outputs": [],
   "source": [
    "import sys\n",
    "sys.path.append('/disks/data/PhD/BGSOLA/SOLA_DLI/core')\n",
    "from core.main_classes.spaces import *"
   ]
  },
  {
   "cell_type": "markdown",
   "metadata": {},
   "source": [
    "## Example 1: $\\mathbb{R}$"
   ]
  },
  {
   "cell_type": "markdown",
   "metadata": {},
   "source": [
    "For example, to create an object that represents the space of real numbers $\\mathbb{R}$ we do:"
   ]
  },
  {
   "cell_type": "code",
   "execution_count": 24,
   "metadata": {},
   "outputs": [],
   "source": [
    "R = RN(dimension=1) # Object for the space of real numbers"
   ]
  },
  {
   "cell_type": "markdown",
   "metadata": {},
   "source": [
    "We can generate some random members of this space"
   ]
  },
  {
   "cell_type": "code",
   "execution_count": 25,
   "metadata": {},
   "outputs": [
    {
     "name": "stdout",
     "output_type": "stream",
     "text": [
      "[[-80.21424363]]\n"
     ]
    }
   ],
   "source": [
    "print(R.random_member())"
   ]
  },
  {
   "cell_type": "markdown",
   "metadata": {},
   "source": [
    "Or more members at once"
   ]
  },
  {
   "cell_type": "code",
   "execution_count": 26,
   "metadata": {},
   "outputs": [
    {
     "name": "stdout",
     "output_type": "stream",
     "text": [
      "[  0.39475941  70.37937589  38.98509227 -34.13749599 -89.00206836]\n"
     ]
    }
   ],
   "source": [
    "print(R.random_member(N=5))"
   ]
  },
  {
   "cell_type": "markdown",
   "metadata": {},
   "source": [
    "We can also add members to our space. Mathematically, all possible members already exist, so by \"adding\" a member, we mean creating a dictionary that holds the name and the values of that member."
   ]
  },
  {
   "cell_type": "code",
   "execution_count": 27,
   "metadata": {},
   "outputs": [
    {
     "name": "stdout",
     "output_type": "stream",
     "text": [
      "{'first': 1}\n"
     ]
    }
   ],
   "source": [
    "R.add_member(member_name='first', member=1)\n",
    "print(R.members)"
   ]
  },
  {
   "cell_type": "markdown",
   "metadata": {},
   "source": [
    "We can also check if something is a member of our space using the \".check_if_member\" method. In our case only integers or floats will be considered members"
   ]
  },
  {
   "cell_type": "code",
   "execution_count": 28,
   "metadata": {},
   "outputs": [
    {
     "name": "stdout",
     "output_type": "stream",
     "text": [
      "True\n",
      "False\n",
      "False\n",
      "False\n",
      "False\n",
      "False\n"
     ]
    }
   ],
   "source": [
    "print(R.check_if_member(1)) # A real number - ok\n",
    "print(R.check_if_member(1j)) # Imaginary number - not ok\n",
    "print(R.check_if_member('s')) # String, not ok\n",
    "print(R.check_if_member(np.array([np.pi]))) # np.ndarray of shape (1,) - not ok\n",
    "print(R.check_if_member(np.array([np.pi, 1]))) # np.ndarray of shape (N,) N>1 - not ok\n",
    "print(R.check_if_member(np.array([1j]))) # np.ndarray containng non floats/ints - not ok"
   ]
  },
  {
   "cell_type": "markdown",
   "metadata": {},
   "source": [
    "Since $\\mathbb{R}$ is a Hilbert space, we also have an inner product defined on it, which corresponds to simple real number multiplication:"
   ]
  },
  {
   "cell_type": "code",
   "execution_count": 29,
   "metadata": {},
   "outputs": [
    {
     "name": "stdout",
     "output_type": "stream",
     "text": [
      "2\n"
     ]
    }
   ],
   "source": [
    "print(R.inner_product(1,2))"
   ]
  },
  {
   "cell_type": "markdown",
   "metadata": {},
   "source": [
    "By default the inner_product method will not check if the two members are actually members of the space. If they are not, you will either get some errors or bugs. You can avoid this by turning to True the \"check_if_member\" flag. This will make it so that an exception will be raised if one or both of the members are not actually members of the space."
   ]
  },
  {
   "cell_type": "code",
   "execution_count": 30,
   "metadata": {},
   "outputs": [],
   "source": [
    "# This should rise and exception. I keep it commented because otherwise \"Run\n",
    "# All\" will not run any cells after this one \n",
    "# R.inner_product(1,2j, check_if_member=True) "
   ]
  },
  {
   "cell_type": "markdown",
   "metadata": {},
   "source": [
    "The inner product induces a norm, which in this case is just the absolute value:"
   ]
  },
  {
   "cell_type": "code",
   "execution_count": 31,
   "metadata": {},
   "outputs": [
    {
     "name": "stdout",
     "output_type": "stream",
     "text": [
      "5.0\n"
     ]
    }
   ],
   "source": [
    "print(R.norm(-5))"
   ]
  },
  {
   "cell_type": "markdown",
   "metadata": {},
   "source": [
    "## Example 2: $\\mathbb{R}^3$"
   ]
  },
  {
   "cell_type": "markdown",
   "metadata": {},
   "source": [
    "We can also create the 3D real space:"
   ]
  },
  {
   "cell_type": "code",
   "execution_count": 32,
   "metadata": {},
   "outputs": [],
   "source": [
    "R3 = RN(dimension=3)"
   ]
  },
  {
   "cell_type": "markdown",
   "metadata": {},
   "source": [
    "All the methods mentioned above translate in the obvious way:"
   ]
  },
  {
   "cell_type": "code",
   "execution_count": 33,
   "metadata": {},
   "outputs": [
    {
     "name": "stdout",
     "output_type": "stream",
     "text": [
      "Random member [[-79.58894738]\n",
      " [ 18.34699517]\n",
      " [-46.4093685 ]]\n",
      "{'first': array([[2.23606798],\n",
      "       [6.        ],\n",
      "       [3.14159265]])}\n",
      "False\n",
      "False\n",
      "False\n",
      "False\n",
      "False\n",
      "True\n",
      "False\n",
      "Inner product 18\n",
      "Norm 1.7320508075688772\n"
     ]
    }
   ],
   "source": [
    "# Random members\n",
    "print('Random member',R3.random_member())\n",
    "# Add members \n",
    "R3.add_member(member_name='first', member=np.array([[np.sqrt(5)],[6],[np.pi]]))\n",
    "print(R3.members)\n",
    "# Checks if members or not\n",
    "print(R3.check_if_member(1)) # A real number - not ok\n",
    "print(R3.check_if_member(1j)) # Imaginary number - not ok\n",
    "print(R3.check_if_member('s')) # String, not ok\n",
    "print(R3.check_if_member(np.array([np.pi]))) # np.ndarray of shape (1,) - not ok\n",
    "print(R3.check_if_member(np.array([np.pi, 1, 2]))) # np.ndarray of shape (N,) N=3 - not ok because it is a row vector\n",
    "print(R3.check_if_member(np.array([[np.pi], [1], [2]]))) # np.ndarray of shape (N,) N=3 - ok because it is a column vector\n",
    "print(R3.check_if_member(np.array([1j, 1, 1]))) # np.ndarray containng non floats/ints - not ok\n",
    "# Inner product\n",
    "member1 = np.array([[1],[1],[1]])\n",
    "member2 = np.array([[5],[6],[7]])\n",
    "print('Inner product', R3.inner_product(member1, member2))\n",
    "# Norm (L2 norm)\n",
    "print('Norm', R3.norm(member1))"
   ]
  }
 ],
 "metadata": {
  "kernelspec": {
   "display_name": "bgsola",
   "language": "python",
   "name": "python3"
  },
  "language_info": {
   "codemirror_mode": {
    "name": "ipython",
    "version": 3
   },
   "file_extension": ".py",
   "mimetype": "text/x-python",
   "name": "python",
   "nbconvert_exporter": "python",
   "pygments_lexer": "ipython3",
   "version": "3.11.5"
  }
 },
 "nbformat": 4,
 "nbformat_minor": 2
}
