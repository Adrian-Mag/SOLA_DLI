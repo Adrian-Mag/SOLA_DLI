{
 "cells": [
  {
   "cell_type": "code",
   "execution_count": 1,
   "metadata": {},
   "outputs": [],
   "source": [
    "from core.main_classes.domains import HyperParalelipiped\n",
    "from core.main_classes.spaces import PCb, DirectSumSpace, RN\n",
    "from core.aux.normal_data import load_normal_data\n",
    "from core.main_classes.functions import *\n",
    "from core.main_classes.mappings import *\n",
    "from core.main_classes.SOLA_DLI import Problem\n",
    "import numpy as np\n",
    "import logging\n",
    "import time"
   ]
  },
  {
   "cell_type": "code",
   "execution_count": 2,
   "metadata": {},
   "outputs": [],
   "source": [
    "# Edit region -------------\n",
    "physical_parameters = ['vs', 'vp', 'rho']\n",
    "# Edit region -------------\n",
    "\n",
    "no_of_params = len(physical_parameters)\n",
    "EarthDomain = HyperParalelipiped(bounds=[[0, 6371]], fineness=1000)\n",
    "constituent_models_spaces = [PCb(domain=EarthDomain) for _ in physical_parameters]\n",
    "# Create a dictionary with physical_parameters as keys\n",
    "models_dict = {param: model_space for param, model_space in zip(physical_parameters, constituent_models_spaces)}\n",
    "M = DirectSumSpace(tuple(constituent_models_spaces))"
   ]
  },
  {
   "cell_type": "code",
   "execution_count": 3,
   "metadata": {},
   "outputs": [],
   "source": [
    "# Edit region -------------\n",
    "data_directory = '/disks/data/PhD/BGSOLA/SOLA_DLI/kernels_modeplotaat_Adrian'\n",
    "which_data = list(np.arange(0, 100))\n",
    "# Edit region -------------\n",
    "\n",
    "# Import sensitivity data\n",
    "how_many_data = len(which_data)\n",
    "raw_sensitivity_dict = {}\n",
    "raw_sensitivity_domains_dict = {}\n",
    "for param in physical_parameters:\n",
    "    raw_sensitivity_domain, raw_sensitivity = load_normal_data(param, data_directory)\n",
    "    raw_sensitivity_dict[param] = np.array(raw_sensitivity)[which_data]\n",
    "    if param not in raw_sensitivity_domains_dict:\n",
    "        raw_sensitivity_domains_dict[param] = raw_sensitivity_domain\n",
    "D = RN(dimension=how_many_data)"
   ]
  },
  {
   "cell_type": "code",
   "execution_count": 4,
   "metadata": {},
   "outputs": [],
   "source": [
    "# Make them into functions via interpolation\n",
    "sensitivity_dict = {}\n",
    "for param in physical_parameters:\n",
    "    sensitivity_dict[param] = []\n",
    "    for discrete_sensitivity_kernel in raw_sensitivity_dict[param]:\n",
    "        sensitivity_dict[param].append(Interpolation_1D(values=discrete_sensitivity_kernel,\n",
    "                                                        raw_domain=raw_sensitivity_domains_dict[param],\n",
    "                                                        domain=EarthDomain))\n",
    "constituent_mappings = [IntegralMapping(domain=models_dict[param], codomain=D, \n",
    "                                        kernels=sensitivity_dict[param]) for param in physical_parameters]\n",
    "mappings_dict = {param: mapping for param, mapping in zip(physical_parameters, constituent_mappings)}\n",
    "G = DirectSumMapping(domain=M, codomain=D, mappings=tuple(constituent_mappings))"
   ]
  },
  {
   "cell_type": "code",
   "execution_count": 5,
   "metadata": {},
   "outputs": [],
   "source": [
    "# Edit region -------------\n",
    "target_types = {'vs': Gaussian_1D,\n",
    "                'vp': Null_1D,\n",
    "                'rho': Null_1D}\n",
    "width = 1000 # same units as domain (km here)\n",
    "how_many_targets = 10\n",
    "enquiry_points = np.linspace(EarthDomain.bounds[0][0], \n",
    "                             EarthDomain.bounds[0][1], \n",
    "                             how_many_targets)\n",
    "# Edit region -------------\n",
    "P = RN(dimension=how_many_targets)\n",
    "targets_dict = {}\n",
    "for param, target_type in target_types.items():\n",
    "    targets_dict[param] = []\n",
    "    for i in range(how_many_targets):\n",
    "        if target_type == Gaussian_1D:\n",
    "            targets_dict[param].append(target_type(domain=EarthDomain,\n",
    "                                                   center=enquiry_points[i],\n",
    "                                                   width=width))\n",
    "        else: \n",
    "            targets_dict[param].append(target_type(domain=EarthDomain))\n",
    "constituent_mappings = [IntegralMapping(domain=models_dict[param], codomain=P, \n",
    "                                        kernels=targets_dict[param]) for param in physical_parameters]\n",
    "T = DirectSumMapping(domain=M, codomain=P, mappings=tuple(constituent_mappings))"
   ]
  },
  {
   "cell_type": "code",
   "execution_count": 6,
   "metadata": {},
   "outputs": [],
   "source": [
    "true_model = M.random_member(args_list=[(1,), (2,), (3,)])\n",
    "data = G.map(true_model)"
   ]
  },
  {
   "cell_type": "code",
   "execution_count": 7,
   "metadata": {},
   "outputs": [],
   "source": [
    "# Edit region -------------\n",
    "# Places where the true model will be evaluated\n",
    "intervals = np.array([0,1000, 2000, 5000, EarthDomain.bounds[0][1]])\n",
    "# Edit region -------------\n",
    "upper_bounds = []\n",
    "for model in true_model:\n",
    "    values = model.evaluate(intervals[1:])[1]*1.2\n",
    "    upper_bound = Piecewise_1D(domain=model.domain,\n",
    "                               intervals=intervals,\n",
    "                               values=values)\n",
    "    upper_bounds.append(upper_bound)\n",
    "norm_bound = M.norm(tuple(upper_bounds))"
   ]
  },
  {
   "cell_type": "code",
   "execution_count": null,
   "metadata": {},
   "outputs": [],
   "source": [
    "problem = Problem(M=M, D=D, P=P, G=G, T=T, norm_bound=norm_bound, data=data)\n",
    "problem._compute_Lambda()"
   ]
  }
 ],
 "metadata": {
  "kernelspec": {
   "display_name": "bgsola",
   "language": "python",
   "name": "python3"
  },
  "language_info": {
   "codemirror_mode": {
    "name": "ipython",
    "version": 3
   },
   "file_extension": ".py",
   "mimetype": "text/x-python",
   "name": "python",
   "nbconvert_exporter": "python",
   "pygments_lexer": "ipython3",
   "version": "3.11.5"
  }
 },
 "nbformat": 4,
 "nbformat_minor": 2
}
