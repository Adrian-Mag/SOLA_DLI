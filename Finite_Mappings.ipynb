{
 "cells": [
  {
   "cell_type": "markdown",
   "metadata": {},
   "source": [
    "# Finite Mappings"
   ]
  },
  {
   "cell_type": "markdown",
   "metadata": {},
   "source": [
    "We can create linear maps between $\\mathbb{R}^N$ and $\\mathbb{R}^M$ using the FiniteLinearMapping class found in mappings.py"
   ]
  },
  {
   "cell_type": "code",
   "execution_count": 8,
   "metadata": {},
   "outputs": [],
   "source": [
    "import sys\n",
    "sys.path.append('/home/adrian/PhD/BGSOLA/SOLA_DLI/core')\n",
    "from core.main_classes.mappings import FiniteLinearMapping\n",
    "from core.main_classes.spaces import RN\n",
    "import numpy as np"
   ]
  },
  {
   "cell_type": "markdown",
   "metadata": {},
   "source": [
    "To create such a mapping, we need to provide the domain, codomain, and the matrix representation of the mapping. The domain and codomains here must be spaces. "
   ]
  },
  {
   "cell_type": "code",
   "execution_count": 9,
   "metadata": {},
   "outputs": [],
   "source": [
    "A_matrix = np.array([[1,2,3],\n",
    "              [4,5,6],\n",
    "              [7,8,10]])\n",
    "domain = RN(dimension=3)\n",
    "codomain = RN(dimension=3)\n",
    "\n",
    "A = FiniteLinearMapping(domain=domain, codomain=codomain, matrix=A_matrix)"
   ]
  },
  {
   "cell_type": "markdown",
   "metadata": {},
   "source": [
    "We can use this mapping to map elements of the domain to the codomain"
   ]
  },
  {
   "cell_type": "code",
   "execution_count": 10,
   "metadata": {},
   "outputs": [
    {
     "name": "stdout",
     "output_type": "stream",
     "text": [
      "[14 32 53]\n"
     ]
    }
   ],
   "source": [
    "v = np.array([1,2,3])\n",
    "print(A.map(v))"
   ]
  },
  {
   "cell_type": "markdown",
   "metadata": {},
   "source": [
    "We can also invert the operator, which will return another FiniteLinearMapping with the domain and codomain reversed, and the .matrix property inverted. "
   ]
  },
  {
   "cell_type": "code",
   "execution_count": 11,
   "metadata": {},
   "outputs": [
    {
     "name": "stdout",
     "output_type": "stream",
     "text": [
      "[[-0.66666667 -1.33333333  1.        ]\n",
      " [-0.66666667  3.66666667 -2.        ]\n",
      " [ 1.         -2.          1.        ]]\n"
     ]
    }
   ],
   "source": [
    "A_inverse = A.invert()\n",
    "print(A_inverse.matrix)"
   ]
  },
  {
   "cell_type": "markdown",
   "metadata": {},
   "source": [
    "If the matrix is almost singular, we cannot directly invert the matrix, so we need to map elements without explicitly inverting the matrix. This is dealt with using the _InverseFiniteLinearMapping class, which uses implicit mapping. "
   ]
  },
  {
   "cell_type": "code",
   "execution_count": 12,
   "metadata": {},
   "outputs": [
    {
     "name": "stderr",
     "output_type": "stream",
     "text": [
      "WARNING:root:The matrix has a high conditioning number (1010896641533.98) -> it will not be inverted. Will use np.linalg.solve instead.\n"
     ]
    },
    {
     "name": "stdout",
     "output_type": "stream",
     "text": [
      "<class 'core.main_classes.mappings._InverseFiniteLinearMapping'>\n",
      "[-0.33333333  0.66666667 -0.        ]\n"
     ]
    }
   ],
   "source": [
    "A_matrix_ill = np.array([[1,2,3],\n",
    "              [4,5,6],\n",
    "              [7,8,9.0000000001]])\n",
    "A = FiniteLinearMapping(domain=domain, codomain=codomain, matrix=A_matrix_ill)\n",
    "A_inverse = A.invert() # This will throw a warning\n",
    "print(type(A_inverse)) # The type of this object is _InverseFiniteLinearMapping\n",
    "\n",
    "print(A_inverse.map(v)) # but we can still map with it (implicitly)"
   ]
  },
  {
   "cell_type": "markdown",
   "metadata": {},
   "source": [
    "Linear mappings can also be composed using the \"*\" operator:"
   ]
  },
  {
   "cell_type": "code",
   "execution_count": 13,
   "metadata": {},
   "outputs": [
    {
     "name": "stdout",
     "output_type": "stream",
     "text": [
      "[29 21 38]\n",
      "[29 21 38]\n"
     ]
    }
   ],
   "source": [
    "A_mat = np.array([[1,2,1],\n",
    "              [0,2,1],\n",
    "              [0,1,3]])\n",
    "\n",
    "B_mat = np.array([[1,2,1],\n",
    "              [0,1,1],\n",
    "              [0,1,3]])\n",
    "A = FiniteLinearMapping(domain=domain, codomain=codomain, matrix=A_mat)\n",
    "B = FiniteLinearMapping(domain=domain, codomain=codomain, matrix=B_mat)\n",
    "\n",
    "C = A*B\n",
    "\n",
    "print(A.map(B.map(v)))\n",
    "print(C.map(v))"
   ]
  },
  {
   "cell_type": "markdown",
   "metadata": {},
   "source": [
    "We can also obtain the adjoint of our operator:"
   ]
  },
  {
   "cell_type": "code",
   "execution_count": 14,
   "metadata": {},
   "outputs": [
    {
     "name": "stdout",
     "output_type": "stream",
     "text": [
      "[[1 0 0]\n",
      " [2 2 1]\n",
      " [1 1 3]]\n"
     ]
    }
   ],
   "source": [
    "A_adj = A.adjoint()\n",
    "\n",
    "print(A_adj.matrix)"
   ]
  },
  {
   "cell_type": "markdown",
   "metadata": {},
   "source": [
    "If the operator is ill-conditioned and we need to use the _InverseFiniteLinearMapping, we can still compute the adjoint, and it will also be an istance of _InverseFiniteLinearMapping. Similarly, we can also do composition between a _InverseFiniteLinearMapping and  FiniteLinearMapping. "
   ]
  }
 ],
 "metadata": {
  "kernelspec": {
   "display_name": "bgsola",
   "language": "python",
   "name": "python3"
  },
  "language_info": {
   "codemirror_mode": {
    "name": "ipython",
    "version": 3
   },
   "file_extension": ".py",
   "mimetype": "text/x-python",
   "name": "python",
   "nbconvert_exporter": "python",
   "pygments_lexer": "ipython3",
   "version": "3.11.5"
  }
 },
 "nbformat": 4,
 "nbformat_minor": 2
}
