{
 "cells": [
  {
   "cell_type": "markdown",
   "metadata": {},
   "source": [
    "# Finite Mappings"
   ]
  },
  {
   "cell_type": "markdown",
   "metadata": {},
   "source": [
    "We can create linear maps between $\\mathbb{R}^N$ and $\\mathbb{R}^M$ using the FiniteLinearMapping class found in mappings.py"
   ]
  },
  {
   "cell_type": "code",
   "execution_count": 7,
   "metadata": {},
   "outputs": [],
   "source": [
    "from sola.main_classes.mappings import FiniteLinearMapping\n",
    "from sola.main_classes.spaces import RN\n",
    "import numpy as np"
   ]
  },
  {
   "cell_type": "markdown",
   "metadata": {},
   "source": [
    "To create such a mapping, we need to provide the domain, codomain, and the matrix representation of the mapping. The domain and codomains here must be spaces. "
   ]
  },
  {
   "cell_type": "code",
   "execution_count": 8,
   "metadata": {},
   "outputs": [],
   "source": [
    "A_matrix = np.array([[1,2,3],\n",
    "                    [4,5,6],\n",
    "                    [7,8,10]])\n",
    "domain = RN(dimension=3)\n",
    "codomain = RN(dimension=3)\n",
    "\n",
    "A = FiniteLinearMapping(domain=domain,\n",
    "                        codomain=codomain,\n",
    "                        matrix=A_matrix)"
   ]
  },
  {
   "cell_type": "markdown",
   "metadata": {},
   "source": [
    "We can use this mapping to map elements of the domain to the codomain"
   ]
  },
  {
   "cell_type": "code",
   "execution_count": 9,
   "metadata": {},
   "outputs": [
    {
     "name": "stdout",
     "output_type": "stream",
     "text": [
      "[[14]\n",
      " [32]\n",
      " [53]]\n"
     ]
    }
   ],
   "source": [
    "v = np.array([[1],[2],[3]])\n",
    "print(A.map(v))"
   ]
  },
  {
   "cell_type": "markdown",
   "metadata": {},
   "source": [
    "Invertible mappings can be inverted with the \".invert\" method, which will return another FiniteLinearMapping with the domain and codomain reversed, and the .matrix property inverted. "
   ]
  },
  {
   "cell_type": "code",
   "execution_count": 10,
   "metadata": {},
   "outputs": [
    {
     "name": "stdout",
     "output_type": "stream",
     "text": [
      "[[-0.66666667 -1.33333333  1.        ]\n",
      " [-0.66666667  3.66666667 -2.        ]\n",
      " [ 1.         -2.          1.        ]]\n"
     ]
    }
   ],
   "source": [
    "A_inverse = A.invert()\n",
    "print(A_inverse.matrix)"
   ]
  },
  {
   "cell_type": "markdown",
   "metadata": {},
   "source": [
    "If a matrix has a very high condition number, instead of a FiniteLinearMapping obejct, the .invert() method will return a ImplicitInvFiniteLinearMapping object which maps elements by solving a system of linear equations. This method is more costly but also more accurate. \n",
    "\n",
    "Linear mappings can also be composed using the \"*\" operator:"
   ]
  },
  {
   "cell_type": "code",
   "execution_count": 11,
   "metadata": {},
   "outputs": [
    {
     "name": "stdout",
     "output_type": "stream",
     "text": [
      "[[29]\n",
      " [21]\n",
      " [38]]\n",
      "[[29]\n",
      " [21]\n",
      " [38]]\n"
     ]
    }
   ],
   "source": [
    "A_mat = np.array([[1,2,1],\n",
    "              [0,2,1],\n",
    "              [0,1,3]])\n",
    "\n",
    "B_mat = np.array([[1,2,1],\n",
    "              [0,1,1],\n",
    "              [0,1,3]])\n",
    "A = FiniteLinearMapping(domain=domain,\n",
    "                        codomain=codomain,\n",
    "                        matrix=A_mat)\n",
    "B = FiniteLinearMapping(domain=domain,\n",
    "                        codomain=codomain,\n",
    "                        matrix=B_mat)\n",
    "\n",
    "C = A*B\n",
    "\n",
    "print(A.map(B.map(v)))\n",
    "print(C.map(v))"
   ]
  },
  {
   "cell_type": "markdown",
   "metadata": {},
   "source": [
    "We can also obtain the adjoint of our mapping:"
   ]
  },
  {
   "cell_type": "code",
   "execution_count": 12,
   "metadata": {},
   "outputs": [
    {
     "name": "stdout",
     "output_type": "stream",
     "text": [
      "<sola.main_classes.mappings.FiniteLinearMapping object at 0x7fe834af92d0>\n",
      "[[1 2 1]\n",
      " [0 2 1]\n",
      " [0 1 3]]\n",
      "[[1 0 0]\n",
      " [2 2 1]\n",
      " [1 1 3]]\n"
     ]
    }
   ],
   "source": [
    "A_adj = A.adjoint\n",
    "print(A_adj)\n",
    "print(A.matrix)\n",
    "print(A_adj.matrix)"
   ]
  },
  {
   "cell_type": "markdown",
   "metadata": {},
   "source": [
    "The code only handles square matrices for now. "
   ]
  }
 ],
 "metadata": {
  "kernelspec": {
   "display_name": "bgsola",
   "language": "python",
   "name": "python3"
  },
  "language_info": {
   "codemirror_mode": {
    "name": "ipython",
    "version": 3
   },
   "file_extension": ".py",
   "mimetype": "text/x-python",
   "name": "python",
   "nbconvert_exporter": "python",
   "pygments_lexer": "ipython3",
   "version": "3.11.8"
  }
 },
 "nbformat": 4,
 "nbformat_minor": 2
}
