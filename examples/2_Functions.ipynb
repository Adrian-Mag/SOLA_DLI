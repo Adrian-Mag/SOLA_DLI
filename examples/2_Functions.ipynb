{
 "cells": [
  {
   "cell_type": "markdown",
   "metadata": {},
   "source": [
    "# Functions and Domains"
   ]
  },
  {
   "cell_type": "markdown",
   "metadata": {},
   "source": [
    "Functions are members of infinite dimensional spaces. Before talking about those spaces, we will look at how to create some functions regardless of which space they are part of. "
   ]
  },
  {
   "cell_type": "markdown",
   "metadata": {},
   "source": [
    "Any function is defined over some domain. The abstract class \"Domain\" deals with domains. We can import all the available domains from the \"domains\" module:"
   ]
  },
  {
   "cell_type": "code",
   "execution_count": 1,
   "metadata": {},
   "outputs": [],
   "source": [
    "from sola.main_classes.domains import *\n"
   ]
  },
  {
   "cell_type": "markdown",
   "metadata": {},
   "source": [
    "Right now the only concrete class is the \"HyperParalelipiped\" which defines domains such as 1D intervals, 2D rectangles with sides parallel to the axes, 3D parallelipipeds with sides parallel to the axes, and higher order hyperparallelipipeds. Basically, it can deal with any finite number of cartesian products of 1D intervals. "
   ]
  },
  {
   "cell_type": "markdown",
   "metadata": {},
   "source": [
    "To instantiate the closed interval $[0,1]$ domain object we do  "
   ]
  },
  {
   "cell_type": "code",
   "execution_count": 2,
   "metadata": {},
   "outputs": [],
   "source": [
    "my_domain = HyperParalelipiped(bounds=[[0,1]])"
   ]
  },
  {
   "cell_type": "markdown",
   "metadata": {},
   "source": [
    "The bounds are defined as follows:\n",
    "[[a,b],[c,d],[e,f],[g,h]...]\n",
    "where each sublist is a 1D interval, and the whole list represents a cartesian product of all sublists. In our case there is only one sublist because we have a 1D domain. \n",
    "\n",
    "The \"fineness\" argument (not used here) defines how many uniformly spaced points should be used by default when doing numerical computations on this domain (by default 1000). The mathematical domain $[0,1]$ is continuous, but in practice we need some discretization when we plot or when we compute an integral. When actually computing stuff, we will always have the option to pass a new \"fineness\" argument that will change the fineness only for that computation. \n",
    "\n",
    "When creating a domain we automatically receive a \"mesh\" which is just a \"np.linspace\" with \"fineness\" number of points:"
   ]
  },
  {
   "cell_type": "code",
   "execution_count": null,
   "metadata": {},
   "outputs": [
    {
     "name": "stdout",
     "output_type": "stream",
     "text": [
      "[0.         0.001001   0.002002   0.003003   0.004004   0.00500501\n",
      " 0.00600601 0.00700701 0.00800801 0.00900901 0.01001001 0.01101101\n",
      " 0.01201201 0.01301301 0.01401401 0.01501502 0.01601602 0.01701702\n",
      " 0.01801802 0.01901902 0.02002002 0.02102102 0.02202202 0.02302302\n",
      " 0.02402402 0.02502503 0.02602603 0.02702703 0.02802803 0.02902903\n",
      " 0.03003003 0.03103103 0.03203203 0.03303303 0.03403403 0.03503504\n",
      " 0.03603604 0.03703704 0.03803804 0.03903904 0.04004004 0.04104104\n",
      " 0.04204204 0.04304304 0.04404404 0.04504505 0.04604605 0.04704705\n",
      " 0.04804805 0.04904905 0.05005005 0.05105105 0.05205205 0.05305305\n",
      " 0.05405405 0.05505506 0.05605606 0.05705706 0.05805806 0.05905906\n",
      " 0.06006006 0.06106106 0.06206206 0.06306306 0.06406406 0.06506507\n",
      " 0.06606607 0.06706707 0.06806807 0.06906907 0.07007007 0.07107107\n",
      " 0.07207207 0.07307307 0.07407407 0.07507508 0.07607608 0.07707708\n",
      " 0.07807808 0.07907908 0.08008008 0.08108108 0.08208208 0.08308308\n",
      " 0.08408408 0.08508509 0.08608609 0.08708709 0.08808809 0.08908909\n",
      " 0.09009009 0.09109109 0.09209209 0.09309309 0.09409409 0.0950951\n",
      " 0.0960961  0.0970971  0.0980981  0.0990991  0.1001001  0.1011011\n",
      " 0.1021021  0.1031031  0.1041041  0.10510511 0.10610611 0.10710711\n",
      " 0.10810811 0.10910911 0.11011011 0.11111111 0.11211211 0.11311311\n",
      " 0.11411411 0.11511512 0.11611612 0.11711712 0.11811812 0.11911912\n",
      " 0.12012012 0.12112112 0.12212212 0.12312312 0.12412412 0.12512513\n",
      " 0.12612613 0.12712713 0.12812813 0.12912913 0.13013013 0.13113113\n",
      " 0.13213213 0.13313313 0.13413413 0.13513514 0.13613614 0.13713714\n",
      " 0.13813814 0.13913914 0.14014014 0.14114114 0.14214214 0.14314314\n",
      " 0.14414414 0.14514515 0.14614615 0.14714715 0.14814815 0.14914915\n",
      " 0.15015015 0.15115115 0.15215215 0.15315315 0.15415415 0.15515516\n",
      " 0.15615616 0.15715716 0.15815816 0.15915916 0.16016016 0.16116116\n",
      " 0.16216216 0.16316316 0.16416416 0.16516517 0.16616617 0.16716717\n",
      " 0.16816817 0.16916917 0.17017017 0.17117117 0.17217217 0.17317317\n",
      " 0.17417417 0.17517518 0.17617618 0.17717718 0.17817818 0.17917918\n",
      " 0.18018018 0.18118118 0.18218218 0.18318318 0.18418418 0.18518519\n",
      " 0.18618619 0.18718719 0.18818819 0.18918919 0.19019019 0.19119119\n",
      " 0.19219219 0.19319319 0.19419419 0.1951952  0.1961962  0.1971972\n",
      " 0.1981982  0.1991992  0.2002002  0.2012012  0.2022022  0.2032032\n",
      " 0.2042042  0.20520521 0.20620621 0.20720721 0.20820821 0.20920921\n",
      " 0.21021021 0.21121121 0.21221221 0.21321321 0.21421421 0.21521522\n",
      " 0.21621622 0.21721722 0.21821822 0.21921922 0.22022022 0.22122122\n",
      " 0.22222222 0.22322322 0.22422422 0.22522523 0.22622623 0.22722723\n",
      " 0.22822823 0.22922923 0.23023023 0.23123123 0.23223223 0.23323323\n",
      " 0.23423423 0.23523524 0.23623624 0.23723724 0.23823824 0.23923924\n",
      " 0.24024024 0.24124124 0.24224224 0.24324324 0.24424424 0.24524525\n",
      " 0.24624625 0.24724725 0.24824825 0.24924925 0.25025025 0.25125125\n",
      " 0.25225225 0.25325325 0.25425425 0.25525526 0.25625626 0.25725726\n",
      " 0.25825826 0.25925926 0.26026026 0.26126126 0.26226226 0.26326326\n",
      " 0.26426426 0.26526527 0.26626627 0.26726727 0.26826827 0.26926927\n",
      " 0.27027027 0.27127127 0.27227227 0.27327327 0.27427427 0.27527528\n",
      " 0.27627628 0.27727728 0.27827828 0.27927928 0.28028028 0.28128128\n",
      " 0.28228228 0.28328328 0.28428428 0.28528529 0.28628629 0.28728729\n",
      " 0.28828829 0.28928929 0.29029029 0.29129129 0.29229229 0.29329329\n",
      " 0.29429429 0.2952953  0.2962963  0.2972973  0.2982983  0.2992993\n",
      " 0.3003003  0.3013013  0.3023023  0.3033033  0.3043043  0.30530531\n",
      " 0.30630631 0.30730731 0.30830831 0.30930931 0.31031031 0.31131131\n",
      " 0.31231231 0.31331331 0.31431431 0.31531532 0.31631632 0.31731732\n",
      " 0.31831832 0.31931932 0.32032032 0.32132132 0.32232232 0.32332332\n",
      " 0.32432432 0.32532533 0.32632633 0.32732733 0.32832833 0.32932933\n",
      " 0.33033033 0.33133133 0.33233233 0.33333333 0.33433433 0.33533534\n",
      " 0.33633634 0.33733734 0.33833834 0.33933934 0.34034034 0.34134134\n",
      " 0.34234234 0.34334334 0.34434434 0.34534535 0.34634635 0.34734735\n",
      " 0.34834835 0.34934935 0.35035035 0.35135135 0.35235235 0.35335335\n",
      " 0.35435435 0.35535536 0.35635636 0.35735736 0.35835836 0.35935936\n",
      " 0.36036036 0.36136136 0.36236236 0.36336336 0.36436436 0.36536537\n",
      " 0.36636637 0.36736737 0.36836837 0.36936937 0.37037037 0.37137137\n",
      " 0.37237237 0.37337337 0.37437437 0.37537538 0.37637638 0.37737738\n",
      " 0.37837838 0.37937938 0.38038038 0.38138138 0.38238238 0.38338338\n",
      " 0.38438438 0.38538539 0.38638639 0.38738739 0.38838839 0.38938939\n",
      " 0.39039039 0.39139139 0.39239239 0.39339339 0.39439439 0.3953954\n",
      " 0.3963964  0.3973974  0.3983984  0.3993994  0.4004004  0.4014014\n",
      " 0.4024024  0.4034034  0.4044044  0.40540541 0.40640641 0.40740741\n",
      " 0.40840841 0.40940941 0.41041041 0.41141141 0.41241241 0.41341341\n",
      " 0.41441441 0.41541542 0.41641642 0.41741742 0.41841842 0.41941942\n",
      " 0.42042042 0.42142142 0.42242242 0.42342342 0.42442442 0.42542543\n",
      " 0.42642643 0.42742743 0.42842843 0.42942943 0.43043043 0.43143143\n",
      " 0.43243243 0.43343343 0.43443443 0.43543544 0.43643644 0.43743744\n",
      " 0.43843844 0.43943944 0.44044044 0.44144144 0.44244244 0.44344344\n",
      " 0.44444444 0.44544545 0.44644645 0.44744745 0.44844845 0.44944945\n",
      " 0.45045045 0.45145145 0.45245245 0.45345345 0.45445445 0.45545546\n",
      " 0.45645646 0.45745746 0.45845846 0.45945946 0.46046046 0.46146146\n",
      " 0.46246246 0.46346346 0.46446446 0.46546547 0.46646647 0.46746747\n",
      " 0.46846847 0.46946947 0.47047047 0.47147147 0.47247247 0.47347347\n",
      " 0.47447447 0.47547548 0.47647648 0.47747748 0.47847848 0.47947948\n",
      " 0.48048048 0.48148148 0.48248248 0.48348348 0.48448448 0.48548549\n",
      " 0.48648649 0.48748749 0.48848849 0.48948949 0.49049049 0.49149149\n",
      " 0.49249249 0.49349349 0.49449449 0.4954955  0.4964965  0.4974975\n",
      " 0.4984985  0.4994995  0.5005005  0.5015015  0.5025025  0.5035035\n",
      " 0.5045045  0.50550551 0.50650651 0.50750751 0.50850851 0.50950951\n",
      " 0.51051051 0.51151151 0.51251251 0.51351351 0.51451451 0.51551552\n",
      " 0.51651652 0.51751752 0.51851852 0.51951952 0.52052052 0.52152152\n",
      " 0.52252252 0.52352352 0.52452452 0.52552553 0.52652653 0.52752753\n",
      " 0.52852853 0.52952953 0.53053053 0.53153153 0.53253253 0.53353353\n",
      " 0.53453453 0.53553554 0.53653654 0.53753754 0.53853854 0.53953954\n",
      " 0.54054054 0.54154154 0.54254254 0.54354354 0.54454454 0.54554555\n",
      " 0.54654655 0.54754755 0.54854855 0.54954955 0.55055055 0.55155155\n",
      " 0.55255255 0.55355355 0.55455455 0.55555556 0.55655656 0.55755756\n",
      " 0.55855856 0.55955956 0.56056056 0.56156156 0.56256256 0.56356356\n",
      " 0.56456456 0.56556557 0.56656657 0.56756757 0.56856857 0.56956957\n",
      " 0.57057057 0.57157157 0.57257257 0.57357357 0.57457457 0.57557558\n",
      " 0.57657658 0.57757758 0.57857858 0.57957958 0.58058058 0.58158158\n",
      " 0.58258258 0.58358358 0.58458458 0.58558559 0.58658659 0.58758759\n",
      " 0.58858859 0.58958959 0.59059059 0.59159159 0.59259259 0.59359359\n",
      " 0.59459459 0.5955956  0.5965966  0.5975976  0.5985986  0.5995996\n",
      " 0.6006006  0.6016016  0.6026026  0.6036036  0.6046046  0.60560561\n",
      " 0.60660661 0.60760761 0.60860861 0.60960961 0.61061061 0.61161161\n",
      " 0.61261261 0.61361361 0.61461461 0.61561562 0.61661662 0.61761762\n",
      " 0.61861862 0.61961962 0.62062062 0.62162162 0.62262262 0.62362362\n",
      " 0.62462462 0.62562563 0.62662663 0.62762763 0.62862863 0.62962963\n",
      " 0.63063063 0.63163163 0.63263263 0.63363363 0.63463463 0.63563564\n",
      " 0.63663664 0.63763764 0.63863864 0.63963964 0.64064064 0.64164164\n",
      " 0.64264264 0.64364364 0.64464464 0.64564565 0.64664665 0.64764765\n",
      " 0.64864865 0.64964965 0.65065065 0.65165165 0.65265265 0.65365365\n",
      " 0.65465465 0.65565566 0.65665666 0.65765766 0.65865866 0.65965966\n",
      " 0.66066066 0.66166166 0.66266266 0.66366366 0.66466466 0.66566567\n",
      " 0.66666667 0.66766767 0.66866867 0.66966967 0.67067067 0.67167167\n",
      " 0.67267267 0.67367367 0.67467467 0.67567568 0.67667668 0.67767768\n",
      " 0.67867868 0.67967968 0.68068068 0.68168168 0.68268268 0.68368368\n",
      " 0.68468468 0.68568569 0.68668669 0.68768769 0.68868869 0.68968969\n",
      " 0.69069069 0.69169169 0.69269269 0.69369369 0.69469469 0.6956957\n",
      " 0.6966967  0.6976977  0.6986987  0.6996997  0.7007007  0.7017017\n",
      " 0.7027027  0.7037037  0.7047047  0.70570571 0.70670671 0.70770771\n",
      " 0.70870871 0.70970971 0.71071071 0.71171171 0.71271271 0.71371371\n",
      " 0.71471471 0.71571572 0.71671672 0.71771772 0.71871872 0.71971972\n",
      " 0.72072072 0.72172172 0.72272272 0.72372372 0.72472472 0.72572573\n",
      " 0.72672673 0.72772773 0.72872873 0.72972973 0.73073073 0.73173173\n",
      " 0.73273273 0.73373373 0.73473473 0.73573574 0.73673674 0.73773774\n",
      " 0.73873874 0.73973974 0.74074074 0.74174174 0.74274274 0.74374374\n",
      " 0.74474474 0.74574575 0.74674675 0.74774775 0.74874875 0.74974975\n",
      " 0.75075075 0.75175175 0.75275275 0.75375375 0.75475475 0.75575576\n",
      " 0.75675676 0.75775776 0.75875876 0.75975976 0.76076076 0.76176176\n",
      " 0.76276276 0.76376376 0.76476476 0.76576577 0.76676677 0.76776777\n",
      " 0.76876877 0.76976977 0.77077077 0.77177177 0.77277277 0.77377377\n",
      " 0.77477477 0.77577578 0.77677678 0.77777778 0.77877878 0.77977978\n",
      " 0.78078078 0.78178178 0.78278278 0.78378378 0.78478478 0.78578579\n",
      " 0.78678679 0.78778779 0.78878879 0.78978979 0.79079079 0.79179179\n",
      " 0.79279279 0.79379379 0.79479479 0.7957958  0.7967968  0.7977978\n",
      " 0.7987988  0.7997998  0.8008008  0.8018018  0.8028028  0.8038038\n",
      " 0.8048048  0.80580581 0.80680681 0.80780781 0.80880881 0.80980981\n",
      " 0.81081081 0.81181181 0.81281281 0.81381381 0.81481481 0.81581582\n",
      " 0.81681682 0.81781782 0.81881882 0.81981982 0.82082082 0.82182182\n",
      " 0.82282282 0.82382382 0.82482482 0.82582583 0.82682683 0.82782783\n",
      " 0.82882883 0.82982983 0.83083083 0.83183183 0.83283283 0.83383383\n",
      " 0.83483483 0.83583584 0.83683684 0.83783784 0.83883884 0.83983984\n",
      " 0.84084084 0.84184184 0.84284284 0.84384384 0.84484484 0.84584585\n",
      " 0.84684685 0.84784785 0.84884885 0.84984985 0.85085085 0.85185185\n",
      " 0.85285285 0.85385385 0.85485485 0.85585586 0.85685686 0.85785786\n",
      " 0.85885886 0.85985986 0.86086086 0.86186186 0.86286286 0.86386386\n",
      " 0.86486486 0.86586587 0.86686687 0.86786787 0.86886887 0.86986987\n",
      " 0.87087087 0.87187187 0.87287287 0.87387387 0.87487487 0.87587588\n",
      " 0.87687688 0.87787788 0.87887888 0.87987988 0.88088088 0.88188188\n",
      " 0.88288288 0.88388388 0.88488488 0.88588589 0.88688689 0.88788789\n",
      " 0.88888889 0.88988989 0.89089089 0.89189189 0.89289289 0.89389389\n",
      " 0.89489489 0.8958959  0.8968969  0.8978979  0.8988989  0.8998999\n",
      " 0.9009009  0.9019019  0.9029029  0.9039039  0.9049049  0.90590591\n",
      " 0.90690691 0.90790791 0.90890891 0.90990991 0.91091091 0.91191191\n",
      " 0.91291291 0.91391391 0.91491491 0.91591592 0.91691692 0.91791792\n",
      " 0.91891892 0.91991992 0.92092092 0.92192192 0.92292292 0.92392392\n",
      " 0.92492492 0.92592593 0.92692693 0.92792793 0.92892893 0.92992993\n",
      " 0.93093093 0.93193193 0.93293293 0.93393393 0.93493493 0.93593594\n",
      " 0.93693694 0.93793794 0.93893894 0.93993994 0.94094094 0.94194194\n",
      " 0.94294294 0.94394394 0.94494494 0.94594595 0.94694695 0.94794795\n",
      " 0.94894895 0.94994995 0.95095095 0.95195195 0.95295295 0.95395395\n",
      " 0.95495495 0.95595596 0.95695696 0.95795796 0.95895896 0.95995996\n",
      " 0.96096096 0.96196196 0.96296296 0.96396396 0.96496496 0.96596597\n",
      " 0.96696697 0.96796797 0.96896897 0.96996997 0.97097097 0.97197197\n",
      " 0.97297297 0.97397397 0.97497497 0.97597598 0.97697698 0.97797798\n",
      " 0.97897898 0.97997998 0.98098098 0.98198198 0.98298298 0.98398398\n",
      " 0.98498498 0.98598599 0.98698699 0.98798799 0.98898899 0.98998999\n",
      " 0.99099099 0.99199199 0.99299299 0.99399399 0.99499499 0.995996\n",
      " 0.996997   0.997998   0.998999   1.        ]\n"
     ]
    }
   ],
   "source": [
    "print(my_domain.mesh)"
   ]
  },
  {
   "cell_type": "markdown",
   "metadata": {},
   "source": [
    "That is the default mesh, but since this objects represents a continuous interval, we can always produce new, finer or coarser, meshes using the \"dynamic_mesh\" method:"
   ]
  },
  {
   "cell_type": "code",
   "execution_count": 1,
   "metadata": {},
   "outputs": [
    {
     "ename": "NameError",
     "evalue": "name 'my_domain' is not defined",
     "output_type": "error",
     "traceback": [
      "\u001b[0;31m---------------------------------------------------------------------------\u001b[0m",
      "\u001b[0;31mNameError\u001b[0m                                 Traceback (most recent call last)",
      "Cell \u001b[0;32mIn[1], line 1\u001b[0m\n\u001b[0;32m----> 1\u001b[0m \u001b[38;5;28mprint\u001b[39m(\u001b[43mmy_domain\u001b[49m\u001b[38;5;241m.\u001b[39mdynamic_mesh(fineness\u001b[38;5;241m=\u001b[39m\u001b[38;5;241m10\u001b[39m))\n",
      "\u001b[0;31mNameError\u001b[0m: name 'my_domain' is not defined"
     ]
    }
   ],
   "source": [
    "print(my_domain.dynamic_mesh(fineness=10))"
   ]
  },
  {
   "cell_type": "markdown",
   "metadata": {},
   "source": [
    "These dynamic meshes are efemere and, if not stored, they dissapear after being used. \n",
    "\n",
    "We can also randomly (and uniformly) sample the domain: "
   ]
  },
  {
   "cell_type": "code",
   "execution_count": 5,
   "metadata": {},
   "outputs": [
    {
     "name": "stdout",
     "output_type": "stream",
     "text": [
      "[[0.2036093 ]\n",
      " [0.81208115]\n",
      " [0.9377449 ]\n",
      " [0.62169001]\n",
      " [0.3831907 ]\n",
      " [0.69759081]\n",
      " [0.85940644]\n",
      " [0.04058875]\n",
      " [0.0744819 ]\n",
      " [0.37907622]]\n"
     ]
    }
   ],
   "source": [
    "print(my_domain.sample_domain(N=10))"
   ]
  },
  {
   "cell_type": "markdown",
   "metadata": {},
   "source": [
    "Where N is the number of samples. \n",
    "\n",
    "We can also check if a point is in the domain"
   ]
  },
  {
   "cell_type": "code",
   "execution_count": 6,
   "metadata": {},
   "outputs": [
    {
     "name": "stdout",
     "output_type": "stream",
     "text": [
      "True\n",
      "False\n",
      "An error occurred: Wrong dimension or type\n"
     ]
    }
   ],
   "source": [
    "print(my_domain.check_if_in_domain(0.5)) # true\n",
    "print(my_domain.check_if_in_domain(5)) # false\n",
    "# The following should rise and exception because the value is not of the correct type.\n",
    "try:\n",
    "    print(my_domain.check_if_in_domain(2j)) # exception\n",
    "except Exception as e:\n",
    "    print(f\"An error occurred: {e}\")"
   ]
  },
  {
   "cell_type": "markdown",
   "metadata": {},
   "source": [
    "And we can print the toal measure of the domain (length/area/volume,etc):"
   ]
  },
  {
   "cell_type": "code",
   "execution_count": 7,
   "metadata": {},
   "outputs": [
    {
     "name": "stdout",
     "output_type": "stream",
     "text": [
      "1\n"
     ]
    }
   ],
   "source": [
    "print(my_domain.total_measure)"
   ]
  },
  {
   "cell_type": "markdown",
   "metadata": {},
   "source": [
    "Now we can create some functions on this domain. Functions are dealt with in the \"functions\" module. There we have an abstract class \"Function\" and a variety of concrete classes that inherit from \"Function\" but add their own form (such as gaussian, boxcar, etc...). In this package, functions are not simply arrays of values; those are elements of some finite space, but we want true functions which are elements of an infinite dimensional space. Our functions, as defined in the \"functions\" file can be evaluated at any point within their domain of definition."
   ]
  },
  {
   "cell_type": "code",
   "execution_count": 8,
   "metadata": {},
   "outputs": [],
   "source": [
    "from sola.main_classes.functions import *"
   ]
  },
  {
   "cell_type": "markdown",
   "metadata": {},
   "source": [
    "For example, let's create an instance of a 1D gaussian function defined on our domain $[0,1]$:"
   ]
  },
  {
   "cell_type": "code",
   "execution_count": 9,
   "metadata": {},
   "outputs": [],
   "source": [
    "gaussian = Gaussian_1D(domain=my_domain, center=0.5, width=0.2)"
   ]
  },
  {
   "cell_type": "markdown",
   "metadata": {},
   "source": [
    "The width is related to the standard deviation via $width=5 \\sigma \\sqrt{2\\ln(2)}$ (where $\\sigma$ is the standard deviation), which is an arbitratry choice that ensures most of the area of the gaussian is contained within the width (99.68% more specifically).\n",
    "\n",
    "As mentioned before, we can evaluate functions at any points within their domain. This is done using the \".evaluate()\" method. The .evaluate() method will return not only the values at the desired points, but also the points where it was evaluated if \"return_points\" is set to True."
   ]
  },
  {
   "cell_type": "code",
   "execution_count": 18,
   "metadata": {},
   "outputs": [
    {
     "name": "stdout",
     "output_type": "stream",
     "text": [
      "[11.74296598]\n",
      "(array([0.7]), array([3.49967658e-07]))\n"
     ]
    }
   ],
   "source": [
    "print(gaussian.evaluate(0.5))\n",
    "print(gaussian.evaluate(0.7, return_points=True))"
   ]
  },
  {
   "cell_type": "markdown",
   "metadata": {},
   "source": [
    "By default, the function will be evaluated only at points that are in its domain. For example:"
   ]
  },
  {
   "cell_type": "code",
   "execution_count": 20,
   "metadata": {},
   "outputs": [
    {
     "name": "stdout",
     "output_type": "stream",
     "text": [
      "(array([0.11111111, 0.33333333, 0.55555556, 0.77777778, 1.        ]), array([4.12989945e-28, 6.97529533e-05, 3.08380725e+00, 3.56872720e-14,\n",
      "       1.08103805e-46]))\n"
     ]
    }
   ],
   "source": [
    "mesh = np.linspace(-1,1,10) # contains points outside the domain\n",
    "# So it evaluates only at points in [0,1]\n",
    "print(gaussian.evaluate(mesh, return_points=True))"
   ]
  },
  {
   "cell_type": "markdown",
   "metadata": {},
   "source": [
    "We can force it to evaluate at all points passed to it by turning off the \"check_if_in_domain\" flag. In that case, if we pass an array with points outside the domain, the function will try to evaluate them, but there is no guarantee that it will do what you think it does:"
   ]
  },
  {
   "cell_type": "code",
   "execution_count": 21,
   "metadata": {},
   "outputs": [
    {
     "name": "stdout",
     "output_type": "stream",
     "text": [
      "(array([-1. , -0.5,  0. ,  0.5,  1. ]), array([0.00000000e+000, 8.43394011e-188, 1.08103805e-046, 1.17429660e+001,\n",
      "       1.08103805e-046]))\n"
     ]
    }
   ],
   "source": [
    "mesh = np.linspace(-1,1,5)\n",
    "# In this case the function can be evaluatyed at [-1,0] as well, so it has no issues\n",
    "print(gaussian.evaluate(mesh, check_if_in_domain=False, return_points=True))"
   ]
  },
  {
   "cell_type": "markdown",
   "metadata": {},
   "source": [
    "Now let's plot this function:"
   ]
  },
  {
   "cell_type": "code",
   "execution_count": 13,
   "metadata": {},
   "outputs": [
    {
     "data": {
      "image/png": "[encoded data removed]",
      "text/plain": [
       "<Figure size 640x480 with 1 Axes>"
      ]
     },
     "metadata": {},
     "output_type": "display_data"
    }
   ],
   "source": [
    "%matplotlib inline\n",
    "gaussian.plot()"
   ]
  },
  {
   "cell_type": "markdown",
   "metadata": {},
   "source": [
    "The functions module contains more functions, and more can be added by the user as long as they follow the given template."
   ]
  },
  {
   "cell_type": "code",
   "execution_count": 14,
   "metadata": {},
   "outputs": [
    {
     "data": {
      "image/png": "[encoded data removed]",
      "text/plain": [
       "<Figure size 640x480 with 1 Axes>"
      ]
     },
     "metadata": {},
     "output_type": "display_data"
    }
   ],
   "source": [
    "%matplotlib inline\n",
    "boxcar = Boxcar_1D(domain=my_domain, center=0.3, width=0.2)\n",
    "\n",
    "boxcar.plot()"
   ]
  },
  {
   "cell_type": "code",
   "execution_count": 15,
   "metadata": {},
   "outputs": [
    {
     "data": {
      "image/png": "[encoded data removed]",
      "text/plain": [
       "<Figure size 640x480 with 1 Axes>"
      ]
     },
     "metadata": {},
     "output_type": "display_data"
    }
   ],
   "source": [
    "%matplotlib inline\n",
    "bump = Bump_1D(domain=my_domain, center=0.2, width=0.2)\n",
    "\n",
    "bump.plot()"
   ]
  },
  {
   "cell_type": "markdown",
   "metadata": {},
   "source": [
    "Notice how we used the method \"plot\" for plotting the functions. This method is not present in all function classes."
   ]
  },
  {
   "cell_type": "markdown",
   "metadata": {},
   "source": [
    "We can also add, subtract, multiply and divide those functions with other functions. Multiplication by a scalar is allowed and works as expected, but addition or subtraction with a scalar is not defined. It might be weird to not allow things like sin(x) + 1, but it should not be: actually when we use sin(x) + 1 what we actually mean is sin(x) + \"a function equal to 1 everywhere in the domain\", but we don't say it explicitly. If we want to do something like f(r) + 1 we need to work with Constant functions. "
   ]
  },
  {
   "cell_type": "code",
   "execution_count": 16,
   "metadata": {},
   "outputs": [
    {
     "data": {
      "image/png": "[encoded data removed]",
      "text/plain": [
       "<Figure size 640x480 with 1 Axes>"
      ]
     },
     "metadata": {},
     "output_type": "display_data"
    }
   ],
   "source": [
    "added = 2*gaussian + bump + boxcar + 10*Constant_1D(my_domain)\n",
    "\n",
    "plt.plot(my_domain.mesh, added.evaluate(my_domain.mesh))\n",
    "plt.show()"
   ]
  },
  {
   "cell_type": "markdown",
   "metadata": {},
   "source": [
    "Division also works, but if the denominator function is zero at any points, then evaluating the resulting function will not be possible at those points (a \"divided by 0\" exception will be thrown)"
   ]
  },
  {
   "cell_type": "code",
   "execution_count": 17,
   "metadata": {},
   "outputs": [
    {
     "data": {
      "image/png": "[encoded data removed]",
      "text/plain": [
       "<Figure size 640x480 with 1 Axes>"
      ]
     },
     "metadata": {},
     "output_type": "display_data"
    }
   ],
   "source": [
    "divided = boxcar / gaussian\n",
    "\n",
    "plt.plot(my_domain.mesh, divided.evaluate(my_domain.mesh))\n",
    "plt.show()"
   ]
  }
 ],
 "metadata": {
  "kernelspec": {
   "display_name": "bgsola",
   "language": "python",
   "name": "python3"
  },
  "language_info": {
   "codemirror_mode": {
    "name": "ipython",
    "version": 3
   },
   "file_extension": ".py",
   "mimetype": "text/x-python",
   "name": "python",
   "nbconvert_exporter": "python",
   "pygments_lexer": "ipython3",
   "version": "3.11.9"
  }
 },
 "nbformat": 4,
 "nbformat_minor": 2
}
