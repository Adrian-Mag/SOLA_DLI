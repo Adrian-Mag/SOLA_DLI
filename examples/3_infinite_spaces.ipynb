{
 "cells": [
  {
   "cell_type": "markdown",
   "metadata": {},
   "source": [
    "# Infinite dimensional Spaces"
   ]
  },
  {
   "cell_type": "markdown",
   "metadata": {},
   "source": [
    "Infinite dimensional spaces are needed when working with functions, because functions can be thought of as vectors with infinitely many entries. The only kind of infinite dimensional space that can be used now is the peicewise continuous bounded space $PC_b$\n",
    "\n",
    "Before creating this space we need to define a domain on which the functions inhabiting this space are defined. For this example I will use $[0,1]$. "
   ]
  },
  {
   "cell_type": "code",
   "execution_count": 1,
   "metadata": {},
   "outputs": [],
   "source": [
    "from sola.main_classes.domains import *\n",
    "from sola.main_classes.spaces import *\n",
    "from sola.main_classes.functions import *\n",
    "from sola.aux.function_creator import *\n",
    "my_domain = HyperParalelipiped(bounds=[[0,1]])"
   ]
  },
  {
   "cell_type": "markdown",
   "metadata": {},
   "source": [
    "Now that we have the domain, we will create the space $PC_b[[0,1]]$:"
   ]
  },
  {
   "cell_type": "code",
   "execution_count": 2,
   "metadata": {},
   "outputs": [],
   "source": [
    "PCB = PCb(domain=my_domain)"
   ]
  },
  {
   "cell_type": "markdown",
   "metadata": {},
   "source": [
    "We can draw some random members from this space:"
   ]
  },
  {
   "cell_type": "code",
   "execution_count": 13,
   "metadata": {},
   "outputs": [
    {
     "data": {
      "image/png": "[encoded data removed]",
      "text/plain": [
       "<Figure size 640x480 with 1 Axes>"
      ]
     },
     "metadata": {},
     "output_type": "display_data"
    }
   ],
   "source": [
    "%matplotlib inline\n",
    "import matplotlib.pyplot as plt\n",
    "function = PCB.random_member()\n",
    "\n",
    "plt.plot(my_domain.mesh, function.evaluate(my_domain.mesh))\n",
    "plt.show()"
   ]
  },
  {
   "cell_type": "markdown",
   "metadata": {},
   "source": [
    "And we can even create our own functions via mouse drawings. To see how to do this see the python file \"draw_functions.py\". The interactive window needed for drawing doesn't work well with jupyter notebooks."
   ]
  },
  {
   "cell_type": "markdown",
   "metadata": {},
   "source": [
    "We can also add these functions as members to our space."
   ]
  },
  {
   "cell_type": "code",
   "execution_count": 4,
   "metadata": {},
   "outputs": [
    {
     "name": "stdout",
     "output_type": "stream",
     "text": [
      "{'gaussian': <sola.main_classes.functions.Gaussian_1D object at 0x7fe75de91410>, 'boxcar': <sola.main_classes.functions.Boxcar_1D object at 0x7fe754eda990>, 'bump': <sola.main_classes.functions.Bump_1D object at 0x7fe754edb010>}\n"
     ]
    }
   ],
   "source": [
    "gaussian = Gaussian_1D(my_domain, center=0.5, width=0.2)\n",
    "boxcar = Boxcar_1D(my_domain, center=0.2, width=0.2)\n",
    "bump = Bump_1D(my_domain, center=0.7, width=0.4)\n",
    "\n",
    "PCB.add_member(member_name='gaussian', member=gaussian)\n",
    "PCB.add_member(member_name='boxcar', member=boxcar)\n",
    "PCB.add_member(member_name='bump', member=bump)\n",
    "\n",
    "print(PCB.members)"
   ]
  },
  {
   "cell_type": "markdown",
   "metadata": {},
   "source": [
    "We can also take the inner product between two functions. By definition this is:\n",
    "$$\n",
    "\\begin{equation}\n",
    "    \\left< f, g \\right>_{PC_b[[0,1]]} = \\int_0^1 f(r) g(r) dr \n",
    "\\end{equation}\n",
    "$$"
   ]
  },
  {
   "cell_type": "code",
   "execution_count": 5,
   "metadata": {},
   "outputs": [
    {
     "name": "stdout",
     "output_type": "stream",
     "text": [
      "6.577372478531864e-09\n"
     ]
    }
   ],
   "source": [
    "print(PCB.inner_product(gaussian, boxcar))"
   ]
  },
  {
   "cell_type": "markdown",
   "metadata": {},
   "source": [
    "And the induced norm:"
   ]
  },
  {
   "cell_type": "code",
   "execution_count": 6,
   "metadata": {},
   "outputs": [
    {
     "name": "stdout",
     "output_type": "stream",
     "text": [
      "2.23606797749979\n"
     ]
    }
   ],
   "source": [
    "print(PCB.norm(boxcar))"
   ]
  },
  {
   "cell_type": "markdown",
   "metadata": {},
   "source": [
    "Currently there is no method for checking if something is a member or not of this space. I will try to implement such a method at some point"
   ]
  }
 ],
 "metadata": {
  "kernelspec": {
   "display_name": "bgsola",
   "language": "python",
   "name": "python3"
  },
  "language_info": {
   "codemirror_mode": {
    "name": "ipython",
    "version": 3
   },
   "file_extension": ".py",
   "mimetype": "text/x-python",
   "name": "python",
   "nbconvert_exporter": "python",
   "pygments_lexer": "ipython3",
   "version": "3.11.8"
  }
 },
 "nbformat": 4,
 "nbformat_minor": 2
}
