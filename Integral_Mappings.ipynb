{
 "cells": [
  {
   "cell_type": "markdown",
   "metadata": {},
   "source": [
    "# Integral Mappings"
   ]
  },
  {
   "cell_type": "markdown",
   "metadata": {},
   "source": [
    "The most important mapping for SOLA is the integral mapping such as\n",
    "$$\n",
    "\\begin{gather}\n",
    "    d = G(m) \\\\\n",
    "    d_i = \\int_{\\Omega} K_i m \n",
    "\\end{gather}\n",
    "$$\n",
    "where $d\\in \\mathbb{R}^N$, and $K_i, m \\in PC_b[\\Omega]$, and $G$ is the integral mapping."
   ]
  },
  {
   "cell_type": "markdown",
   "metadata": {},
   "source": [
    "To deal with such integral mappings we use the IntegralMapping class in mappings.py"
   ]
  },
  {
   "cell_type": "code",
   "execution_count": 1,
   "metadata": {},
   "outputs": [],
   "source": [
    "import sys\n",
    "sys.path.append('/home/adrian/PhD/BGSOLA/SOLA_DLI/core')\n",
    "from core.main_classes.mappings import IntegralMapping\n",
    "from core.main_classes.spaces import PCb, RN\n",
    "from core.aux.domains import HyperParalelipiped\n",
    "from core.aux.functions import *\n",
    "import numpy as np"
   ]
  },
  {
   "cell_type": "markdown",
   "metadata": {},
   "source": [
    "To create such a mapping we need a domain, codomain, and a list of the kernels. The domain must be of type $PC_b[\\Omega]$, where $\\Omega$ is the domain on which the functions are defined (not be confused with the domain of $G$, which is $PC_b[\\Omega]$)"
   ]
  },
  {
   "cell_type": "code",
   "execution_count": 4,
   "metadata": {},
   "outputs": [
    {
     "data": {
      "image/png": "[encoded data removed]",
      "text/plain": [
       "<Figure size 432x288 with 1 Axes>"
      ]
     },
     "metadata": {
      "needs_background": "light"
     },
     "output_type": "display_data"
    }
   ],
   "source": [
    "%matplotlib inline\n",
    "# Create a domain for the functions\n",
    "function_domain = HyperParalelipiped(bounds=[[0,10]], fineness=1000)\n",
    "# Create the model and data space \n",
    "model_space = PCb(domain=function_domain)\n",
    "data_space = RN(dimension=3)\n",
    "# Create kernels\n",
    "func = Gaussian_1D(domain=function_domain, center=5, width=2)\n",
    "func.plot()\n",
    "\n",
    "# G = IntegralMapping(domain=model_space, codomain=data_space, kernels=kernels)"
   ]
  }
 ],
 "metadata": {
  "kernelspec": {
   "display_name": "bgsola",
   "language": "python",
   "name": "python3"
  },
  "language_info": {
   "codemirror_mode": {
    "name": "ipython",
    "version": 3
   },
   "file_extension": ".py",
   "mimetype": "text/x-python",
   "name": "python",
   "nbconvert_exporter": "python",
   "pygments_lexer": "ipython3",
   "version": "3.11.5"
  }
 },
 "nbformat": 4,
 "nbformat_minor": 2
}
