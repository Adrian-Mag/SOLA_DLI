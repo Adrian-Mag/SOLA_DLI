{
 "cells": [
  {
   "cell_type": "markdown",
   "metadata": {},
   "source": [
    "# A 1D example with Normal modes"
   ]
  },
  {
   "cell_type": "markdown",
   "metadata": {},
   "source": [
    "In this example we will solve the classic error free SOLA problem in 1D:\n",
    "$$\n",
    "\\begin{gather}\n",
    "    \\nonumber \\text{Given the data constraint} \\\\ \n",
    "    d_i = G(m) = \\int_0^1 K_i(x) m(x) dx \\\\\n",
    "    \\nonumber \\text{We want to find} \\\\\n",
    "    p_i = T(m) = \\int_0^1 \\Tau_i(x) m(x) dx\n",
    "\\end{gather}\n",
    "$$"
   ]
  },
  {
   "cell_type": "markdown",
   "metadata": {},
   "source": [
    "First we import the needed modules"
   ]
  },
  {
   "cell_type": "code",
   "execution_count": 3,
   "metadata": {},
   "outputs": [],
   "source": [
    "import sys\n",
    "sys.path.append('/home/adrian/PhD/BGSOLA/SOLA_DLI/core')\n",
    "from core.main_classes.spaces import RN, PCb\n",
    "from core.main_classes.domains import HyperParalelipiped\n",
    "\n",
    "# This contains various functions for loading and handling normal mode data \n",
    "from core.aux.normal_data import * "
   ]
  },
  {
   "cell_type": "markdown",
   "metadata": {},
   "source": [
    "Then we import the kernel data"
   ]
  },
  {
   "cell_type": "code",
   "execution_count": 4,
   "metadata": {},
   "outputs": [
    {
     "ename": "NameError",
     "evalue": "name 'pd' is not defined",
     "output_type": "error",
     "traceback": [
      "\u001b[0;31m---------------------------------------------------------------------------\u001b[0m",
      "\u001b[0;31mNameError\u001b[0m                                 Traceback (most recent call last)",
      "Cell \u001b[0;32mIn[4], line 5\u001b[0m\n\u001b[1;32m      3\u001b[0m kernel_type \u001b[38;5;241m=\u001b[39m \u001b[38;5;124m'\u001b[39m\u001b[38;5;124mvs\u001b[39m\u001b[38;5;124m'\u001b[39m\n\u001b[1;32m      4\u001b[0m \u001b[38;5;66;03m# Read the file that contains all available modes \u001b[39;00m\n\u001b[0;32m----> 5\u001b[0m modes_df \u001b[38;5;241m=\u001b[39m pd\u001b[38;5;241m.\u001b[39mread_csv(\u001b[38;5;124m\"\u001b[39m\u001b[38;5;124m/home/adrian/PhD/BGSOLA/mysola/normal_data/kernels_modeplotaat_Adrian/data_list_SP12RTS\u001b[39m\u001b[38;5;124m\"\u001b[39m, header\u001b[38;5;241m=\u001b[39m\u001b[38;5;28;01mNone\u001b[39;00m, names\u001b[38;5;241m=\u001b[39m[\u001b[38;5;124m\"\u001b[39m\u001b[38;5;124mMode\u001b[39m\u001b[38;5;124m\"\u001b[39m])\n\u001b[1;32m      6\u001b[0m \u001b[38;5;66;03m# Create a new column with the full filenames\u001b[39;00m\n\u001b[1;32m      7\u001b[0m modes_df[\u001b[38;5;124m'\u001b[39m\u001b[38;5;124mfilenames\u001b[39m\u001b[38;5;124m'\u001b[39m] \u001b[38;5;241m=\u001b[39m modes_df[\u001b[38;5;124m'\u001b[39m\u001b[38;5;124mMode\u001b[39m\u001b[38;5;124m'\u001b[39m]\u001b[38;5;241m.\u001b[39mapply(generate_filenames, kernel_type\u001b[38;5;241m=\u001b[39mkernel_type, dir_base\u001b[38;5;241m=\u001b[39mdir_base)\n",
      "\u001b[0;31mNameError\u001b[0m: name 'pd' is not defined"
     ]
    }
   ],
   "source": [
    "# Directory where all the data is and whether we want vs or vp etc\n",
    "data_directory = '/home/adrian/PhD/BGSOLA/mysola/normal_data/kernels_modeplotaat_Adrian'\n",
    "kernel_type = 'vs'\n",
    "# Read the file that contains all available modes \n"
   ]
  },
  {
   "cell_type": "markdown",
   "metadata": {},
   "source": [
    "Then we create the needed spaces"
   ]
  },
  {
   "cell_type": "code",
   "execution_count": null,
   "metadata": {},
   "outputs": [],
   "source": [
    "EarthDomain = HyperParalelipiped(bounds=[])\n",
    "M = PCb(domain=EarthDomain)"
   ]
  }
 ],
 "metadata": {
  "kernelspec": {
   "display_name": "bgsola",
   "language": "python",
   "name": "python3"
  },
  "language_info": {
   "codemirror_mode": {
    "name": "ipython",
    "version": 3
   },
   "file_extension": ".py",
   "mimetype": "text/x-python",
   "name": "python",
   "nbconvert_exporter": "python",
   "pygments_lexer": "ipython3",
   "version": "3.11.5"
  }
 },
 "nbformat": 4,
 "nbformat_minor": 2
}
